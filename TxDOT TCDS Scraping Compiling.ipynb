{
 "cells": [
  {
   "cell_type": "code",
   "execution_count": null,
   "id": "f857950c",
   "metadata": {},
   "outputs": [],
   "source": [
    "import requests\n",
    "from bs4 import BeautifulSoup\n",
    "import pandas as pd"
   ]
  },
  {
   "cell_type": "code",
   "execution_count": null,
   "id": "fe1e89d0",
   "metadata": {},
   "outputs": [],
   "source": [
    "def request_load(_id):\n",
    "    session = requests.Session()\n",
    "    timeout = 10\n",
    "    headers = {\n",
    "        'authority': 'txdot.public.ms2soft.com',\n",
    "        'accept': '*/*',\n",
    "        'accept-language': 'en,zh;q=0.9,zh-CN;q=0.8,ja;q=0.7,zh-TW;q=0.6',\n",
    "        'referer': 'https://txdot.public.ms2soft.com/tcds/tdetail.asp?updatemap=&from_map=',\n",
    "        'sec-ch-ua': '\"Not.A/Brand\";v=\"8\", \"Chromium\";v=\"114\", \"Google Chrome\";v=\"114\"',\n",
    "        'sec-ch-ua-mobile': '?0',\n",
    "        'sec-ch-ua-platform': '\"macOS\"',\n",
    "        'sec-fetch-dest': 'empty',\n",
    "        'sec-fetch-mode': 'cors',\n",
    "        'sec-fetch-site': 'same-origin',\n",
    "        'user-agent': 'Mozilla/5.0 (Macintosh; Intel Mac OS X 10_15_7) AppleWebKit/537.36 (KHTML, like Gecko) Chrome/114.0.0.0 Safari/537.36',\n",
    "    }\n",
    "    res = session.get('https://txdot.public.ms2soft.com/tcds/tsearch.asp', headers = headers) #request for home page and store the cookies in cks\n",
    "    cks = session.cookies\n",
    "\n",
    "    lst = [] #create an empty list to append all responses\n",
    "    \n",
    "    for pg in range(1,6):  #AADT detail has at most 5 pages\n",
    "        params = {\n",
    "            'offset': '0',\n",
    "            'agency_id': '97',\n",
    "            'local_id': _id,\n",
    "            'page_type': '',\n",
    "            'pg': str(pg),\n",
    "        }\n",
    "\n",
    "        response = requests.get(\n",
    "            'https://txdot.public.ms2soft.com/tcds/ajax/tcds_tdetail_aadt.asp',\n",
    "            params=params,\n",
    "            timeout = timeout,\n",
    "            headers=headers,\n",
    "            cookies = cks\n",
    "        )\n",
    "        \n",
    "        lst.append(response.text)\n",
    "        \n",
    "    return lst\n",
    "    \n",
    "\n",
    "    "
   ]
  },
  {
   "cell_type": "code",
   "execution_count": null,
   "id": "1ac81a44",
   "metadata": {},
   "outputs": [],
   "source": [
    "station = \"43H3\"\n",
    "lst = request_load(station)"
   ]
  },
  {
   "cell_type": "code",
   "execution_count": null,
   "id": "3a2b0609",
   "metadata": {},
   "outputs": [],
   "source": [
    "col_nm = []\n",
    "row_data = []\n",
    "\n",
    "for response in lst:\n",
    "    soup = BeautifulSoup(response, 'html.parser')\n",
    "    rows_tr = soup.find_all('tr', class_ = 'FormRowLabel')\n",
    "\n",
    "    # Getting column names\n",
    "    # if col_nm:\n",
    "    #     pass\n",
    "    # else:\n",
    "    #     for cell in rows_tr[0]:\n",
    "    #         if cell.text.strip() != '':\n",
    "    #             col_nm.append(cell.text.strip())\n",
    "    if not col_nm:\n",
    "        col_nm = [cell.text.strip() for cell in rows_tr[0] if cell.text.strip()]\n",
    "    \n",
    "    # Getting values by rows\n",
    "    for i in range(1, len(rows_tr)):\n",
    "        row = rows_tr[i].find_all('td')\n",
    "        if len(row) <= 1:\n",
    "            break\n",
    "        cell_data = [''.join(str(item) for item in td.contents if not getattr(item, 'name', None) == 'sup').strip() for td in row if td.contents]\n",
    "        row_data.append(cell_data)\n",
    "        \n",
    "\n",
    "    # for i in range(len(rows_tr)-1):\n",
    "    #     row = rows_tr[i+1].find_all('td')\n",
    "    #     if len(row) <= 1:\n",
    "    #         break\n",
    "    #     data = []\n",
    "    #     for cell_bs in row:\n",
    "    #         cell = cell_bs.text\n",
    "    #         if cell != '':\n",
    "    #             data.append(cell)\n",
    "    #     row_data.append(data)   \n"
   ]
  },
  {
   "cell_type": "code",
   "execution_count": null,
   "id": "2a257e73",
   "metadata": {},
   "outputs": [],
   "source": [
    "row_data"
   ]
  },
  {
   "cell_type": "code",
   "execution_count": null,
   "id": "58b20175",
   "metadata": {},
   "outputs": [],
   "source": [
    "aadt = pd.DataFrame(row_data, columns = col_nm).sort_values(by=\"Year\").reset_index(drop=True)"
   ]
  },
  {
   "cell_type": "code",
   "execution_count": null,
   "id": "e62b8fd1",
   "metadata": {},
   "outputs": [],
   "source": [
    "aadt"
   ]
  },
  {
   "cell_type": "code",
   "execution_count": null,
   "id": "755a321e",
   "metadata": {},
   "outputs": [],
   "source": [
    "aadt.to_csv(f'historical_aadt_{station}.csv', index=True)  \n",
    "print(f'Data saved to \"historical_aadt_{station}.csv\"')"
   ]
  },
  {
   "cell_type": "code",
   "execution_count": null,
   "id": "99a49075",
   "metadata": {},
   "outputs": [],
   "source": []
  }
 ],
 "metadata": {
  "kernelspec": {
   "display_name": "Python 3 (ipykernel)",
   "language": "python",
   "name": "python3"
  },
  "language_info": {
   "codemirror_mode": {
    "name": "ipython",
    "version": 3
   },
   "file_extension": ".py",
   "mimetype": "text/x-python",
   "name": "python",
   "nbconvert_exporter": "python",
   "pygments_lexer": "ipython3",
   "version": "3.11.7"
  }
 },
 "nbformat": 4,
 "nbformat_minor": 5
}
